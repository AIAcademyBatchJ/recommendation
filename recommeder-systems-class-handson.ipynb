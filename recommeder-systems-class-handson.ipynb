{
 "cells": [
  {
   "cell_type": "code",
   "execution_count": 1,
   "id": "8246fd2f",
   "metadata": {},
   "outputs": [],
   "source": [
    "import os\n",
    "import pandas as pd\n",
    "import surprise"
   ]
  },
  {
   "cell_type": "code",
   "execution_count": 2,
   "id": "420e07b2",
   "metadata": {},
   "outputs": [],
   "source": [
    "# Option 1: reading data from a dataframe"
   ]
  },
  {
   "cell_type": "code",
   "execution_count": 3,
   "id": "8488659f",
   "metadata": {},
   "outputs": [
    {
     "data": {
      "text/html": [
       "<div>\n",
       "<style scoped>\n",
       "    .dataframe tbody tr th:only-of-type {\n",
       "        vertical-align: middle;\n",
       "    }\n",
       "\n",
       "    .dataframe tbody tr th {\n",
       "        vertical-align: top;\n",
       "    }\n",
       "\n",
       "    .dataframe thead th {\n",
       "        text-align: right;\n",
       "    }\n",
       "</style>\n",
       "<table border=\"1\" class=\"dataframe\">\n",
       "  <thead>\n",
       "    <tr style=\"text-align: right;\">\n",
       "      <th></th>\n",
       "      <th>user</th>\n",
       "      <th>rating</th>\n",
       "      <th>item</th>\n",
       "    </tr>\n",
       "  </thead>\n",
       "  <tbody>\n",
       "    <tr>\n",
       "      <th>0</th>\n",
       "      <td>1</td>\n",
       "      <td>2</td>\n",
       "      <td>1</td>\n",
       "    </tr>\n",
       "    <tr>\n",
       "      <th>1</th>\n",
       "      <td>2</td>\n",
       "      <td>2</td>\n",
       "      <td>1</td>\n",
       "    </tr>\n",
       "    <tr>\n",
       "      <th>2</th>\n",
       "      <td>3</td>\n",
       "      <td>3</td>\n",
       "      <td>2</td>\n",
       "    </tr>\n",
       "    <tr>\n",
       "      <th>3</th>\n",
       "      <td>4</td>\n",
       "      <td>3</td>\n",
       "      <td>2</td>\n",
       "    </tr>\n",
       "    <tr>\n",
       "      <th>4</th>\n",
       "      <td>5</td>\n",
       "      <td>1</td>\n",
       "      <td>1</td>\n",
       "    </tr>\n",
       "  </tbody>\n",
       "</table>\n",
       "</div>"
      ],
      "text/plain": [
       "   user  rating  item\n",
       "0     1       2     1\n",
       "1     2       2     1\n",
       "2     3       3     2\n",
       "3     4       3     2\n",
       "4     5       1     1"
      ]
     },
     "execution_count": 3,
     "metadata": {},
     "output_type": "execute_result"
    }
   ],
   "source": [
    "df = pd.read_csv('sample_data.csv')\n",
    "df.head()"
   ]
  },
  {
   "cell_type": "code",
   "execution_count": 4,
   "id": "d850f341",
   "metadata": {},
   "outputs": [],
   "source": [
    "reader = surprise.dataset.Reader(line_format='user rating item', rating_scale=(1,5))"
   ]
  },
  {
   "cell_type": "code",
   "execution_count": 5,
   "id": "a5c2e2d0",
   "metadata": {},
   "outputs": [],
   "source": [
    "data = surprise.dataset.Dataset.load_from_df(df, reader)"
   ]
  },
  {
   "cell_type": "code",
   "execution_count": 6,
   "id": "1c48acfa",
   "metadata": {},
   "outputs": [
    {
     "data": {
      "text/plain": [
       "[(1, 2, 1.0, None),\n",
       " (2, 2, 1.0, None),\n",
       " (3, 3, 2.0, None),\n",
       " (4, 3, 2.0, None),\n",
       " (5, 1, 1.0, None)]"
      ]
     },
     "execution_count": 6,
     "metadata": {},
     "output_type": "execute_result"
    }
   ],
   "source": [
    "data.raw_ratings"
   ]
  },
  {
   "cell_type": "code",
   "execution_count": 10,
   "id": "b6b7abee",
   "metadata": {},
   "outputs": [],
   "source": [
    "# Option 2: load directly from a text file"
   ]
  },
  {
   "cell_type": "code",
   "execution_count": 7,
   "id": "d4bb0e52",
   "metadata": {},
   "outputs": [],
   "source": [
    "reader = surprise.dataset.Reader(line_format='user rating item', rating_scale=(1,5), sep=',', skip_lines=1)"
   ]
  },
  {
   "cell_type": "code",
   "execution_count": 8,
   "id": "0bebd478",
   "metadata": {},
   "outputs": [],
   "source": [
    "data1 = surprise.dataset.Dataset.load_from_file('sample_data.csv', reader=reader)"
   ]
  },
  {
   "cell_type": "code",
   "execution_count": 9,
   "id": "37a0c51a",
   "metadata": {},
   "outputs": [
    {
     "data": {
      "text/plain": [
       "[('1', '1', 2.0, None),\n",
       " ('2', '1', 2.0, None),\n",
       " ('3', '2', 3.0, None),\n",
       " ('4', '2', 3.0, None),\n",
       " ('5', '1', 1.0, None)]"
      ]
     },
     "execution_count": 9,
     "metadata": {},
     "output_type": "execute_result"
    }
   ],
   "source": [
    "data1.raw_ratings"
   ]
  },
  {
   "cell_type": "code",
   "execution_count": 12,
   "id": "72d6e6d6",
   "metadata": {},
   "outputs": [
    {
     "data": {
      "text/plain": [
       "'C:\\\\Users\\\\Swastik\\\\Desktop\\\\Dono Consulting\\\\Deloitte_Training\\\\recommendation-systems'"
      ]
     },
     "execution_count": 12,
     "metadata": {},
     "output_type": "execute_result"
    }
   ],
   "source": [
    "os.getcwd()"
   ]
  },
  {
   "cell_type": "code",
   "execution_count": 13,
   "id": "599a140a",
   "metadata": {},
   "outputs": [],
   "source": [
    "os.chdir('C:\\\\Users\\\\Swastik\\\\Desktop\\\\Dono Consulting\\\\Deloitte_Training\\\\recommendation-systems\\\\ml-latest-small')"
   ]
  },
  {
   "cell_type": "code",
   "execution_count": 14,
   "id": "a46fad94",
   "metadata": {},
   "outputs": [],
   "source": [
    "mr = pd.read_csv('ratings.csv')"
   ]
  },
  {
   "cell_type": "code",
   "execution_count": 15,
   "id": "974f99d3",
   "metadata": {},
   "outputs": [
    {
     "data": {
      "text/html": [
       "<div>\n",
       "<style scoped>\n",
       "    .dataframe tbody tr th:only-of-type {\n",
       "        vertical-align: middle;\n",
       "    }\n",
       "\n",
       "    .dataframe tbody tr th {\n",
       "        vertical-align: top;\n",
       "    }\n",
       "\n",
       "    .dataframe thead th {\n",
       "        text-align: right;\n",
       "    }\n",
       "</style>\n",
       "<table border=\"1\" class=\"dataframe\">\n",
       "  <thead>\n",
       "    <tr style=\"text-align: right;\">\n",
       "      <th></th>\n",
       "      <th>userId</th>\n",
       "      <th>movieId</th>\n",
       "      <th>rating</th>\n",
       "      <th>timestamp</th>\n",
       "    </tr>\n",
       "  </thead>\n",
       "  <tbody>\n",
       "    <tr>\n",
       "      <th>0</th>\n",
       "      <td>1</td>\n",
       "      <td>31</td>\n",
       "      <td>2.5</td>\n",
       "      <td>1260759144</td>\n",
       "    </tr>\n",
       "    <tr>\n",
       "      <th>1</th>\n",
       "      <td>1</td>\n",
       "      <td>1029</td>\n",
       "      <td>3.0</td>\n",
       "      <td>1260759179</td>\n",
       "    </tr>\n",
       "    <tr>\n",
       "      <th>2</th>\n",
       "      <td>1</td>\n",
       "      <td>1061</td>\n",
       "      <td>3.0</td>\n",
       "      <td>1260759182</td>\n",
       "    </tr>\n",
       "    <tr>\n",
       "      <th>3</th>\n",
       "      <td>1</td>\n",
       "      <td>1129</td>\n",
       "      <td>2.0</td>\n",
       "      <td>1260759185</td>\n",
       "    </tr>\n",
       "    <tr>\n",
       "      <th>4</th>\n",
       "      <td>1</td>\n",
       "      <td>1172</td>\n",
       "      <td>4.0</td>\n",
       "      <td>1260759205</td>\n",
       "    </tr>\n",
       "  </tbody>\n",
       "</table>\n",
       "</div>"
      ],
      "text/plain": [
       "   userId  movieId  rating   timestamp\n",
       "0       1       31     2.5  1260759144\n",
       "1       1     1029     3.0  1260759179\n",
       "2       1     1061     3.0  1260759182\n",
       "3       1     1129     2.0  1260759185\n",
       "4       1     1172     4.0  1260759205"
      ]
     },
     "execution_count": 15,
     "metadata": {},
     "output_type": "execute_result"
    }
   ],
   "source": [
    "mr.head()"
   ]
  },
  {
   "cell_type": "code",
   "execution_count": 16,
   "id": "0c766d32",
   "metadata": {},
   "outputs": [
    {
     "data": {
      "text/plain": [
       "(100004, 4)"
      ]
     },
     "execution_count": 16,
     "metadata": {},
     "output_type": "execute_result"
    }
   ],
   "source": [
    "mr.shape"
   ]
  },
  {
   "cell_type": "code",
   "execution_count": 17,
   "id": "dc4456e4",
   "metadata": {},
   "outputs": [],
   "source": [
    "mr.drop('timestamp', axis=1, inplace=True)"
   ]
  },
  {
   "cell_type": "code",
   "execution_count": 18,
   "id": "2c9a4bc8",
   "metadata": {},
   "outputs": [
    {
     "data": {
      "text/plain": [
       "Index(['userId', 'movieId', 'rating'], dtype='object')"
      ]
     },
     "execution_count": 18,
     "metadata": {},
     "output_type": "execute_result"
    }
   ],
   "source": [
    "mr.columns"
   ]
  },
  {
   "cell_type": "code",
   "execution_count": 19,
   "id": "e6b8ba77",
   "metadata": {},
   "outputs": [],
   "source": [
    "mr.rename(columns={'userId':'user','movieId':'item'}, inplace=True)"
   ]
  },
  {
   "cell_type": "code",
   "execution_count": 20,
   "id": "4139021a",
   "metadata": {},
   "outputs": [],
   "source": [
    "reader = surprise.dataset.Reader(line_format='user item rating', rating_scale=(1,5))"
   ]
  },
  {
   "cell_type": "code",
   "execution_count": 21,
   "id": "03773328",
   "metadata": {},
   "outputs": [],
   "source": [
    "mr_train = surprise.dataset.Dataset.load_from_df(mr, reader=reader)"
   ]
  },
  {
   "cell_type": "code",
   "execution_count": 22,
   "id": "710c722b",
   "metadata": {},
   "outputs": [
    {
     "data": {
      "text/plain": [
       "<surprise.dataset.DatasetAutoFolds at 0x1727c7e6f40>"
      ]
     },
     "execution_count": 22,
     "metadata": {},
     "output_type": "execute_result"
    }
   ],
   "source": [
    "mr_train"
   ]
  },
  {
   "cell_type": "code",
   "execution_count": 23,
   "id": "98eca31f",
   "metadata": {},
   "outputs": [],
   "source": [
    "mr_trainset = mr_train.build_full_trainset()"
   ]
  },
  {
   "cell_type": "code",
   "execution_count": 24,
   "id": "693bf549",
   "metadata": {},
   "outputs": [
    {
     "data": {
      "text/plain": [
       "<surprise.trainset.Trainset at 0x1725a05b7c0>"
      ]
     },
     "execution_count": 24,
     "metadata": {},
     "output_type": "execute_result"
    }
   ],
   "source": [
    "mr_trainset"
   ]
  },
  {
   "cell_type": "markdown",
   "id": "fa8c27eb",
   "metadata": {},
   "source": [
    "## Memory Based Recommendation Systems"
   ]
  },
  {
   "cell_type": "code",
   "execution_count": 70,
   "id": "d4fd6404",
   "metadata": {},
   "outputs": [],
   "source": [
    "from surprise.prediction_algorithms.knns import KNNBasic, KNNWithMeans"
   ]
  },
  {
   "cell_type": "code",
   "execution_count": null,
   "id": "839da5c8",
   "metadata": {},
   "outputs": [],
   "source": [
    "#user-based"
   ]
  },
  {
   "cell_type": "code",
   "execution_count": 46,
   "id": "ff5c3d01",
   "metadata": {},
   "outputs": [],
   "source": [
    "knnbasic_user = KNNBasic(k=40, min_k=1, sim_options={'name':'cosine', 'user_based':True})"
   ]
  },
  {
   "cell_type": "code",
   "execution_count": 47,
   "id": "879369cc",
   "metadata": {},
   "outputs": [
    {
     "name": "stdout",
     "output_type": "stream",
     "text": [
      "Computing the cosine similarity matrix...\n",
      "Done computing similarity matrix.\n"
     ]
    },
    {
     "data": {
      "text/plain": [
       "<surprise.prediction_algorithms.knns.KNNBasic at 0x1727c7e6850>"
      ]
     },
     "execution_count": 47,
     "metadata": {},
     "output_type": "execute_result"
    }
   ],
   "source": [
    "knnbasic_user.fit(mr_trainset)"
   ]
  },
  {
   "cell_type": "code",
   "execution_count": 38,
   "id": "5503f4f6",
   "metadata": {},
   "outputs": [
    {
     "data": {
      "text/html": [
       "<div>\n",
       "<style scoped>\n",
       "    .dataframe tbody tr th:only-of-type {\n",
       "        vertical-align: middle;\n",
       "    }\n",
       "\n",
       "    .dataframe tbody tr th {\n",
       "        vertical-align: top;\n",
       "    }\n",
       "\n",
       "    .dataframe thead th {\n",
       "        text-align: right;\n",
       "    }\n",
       "</style>\n",
       "<table border=\"1\" class=\"dataframe\">\n",
       "  <thead>\n",
       "    <tr style=\"text-align: right;\">\n",
       "      <th></th>\n",
       "      <th>user</th>\n",
       "      <th>item</th>\n",
       "      <th>rating</th>\n",
       "    </tr>\n",
       "  </thead>\n",
       "  <tbody>\n",
       "    <tr>\n",
       "      <th>0</th>\n",
       "      <td>1</td>\n",
       "      <td>31</td>\n",
       "      <td>2.5</td>\n",
       "    </tr>\n",
       "    <tr>\n",
       "      <th>1</th>\n",
       "      <td>1</td>\n",
       "      <td>1029</td>\n",
       "      <td>3.0</td>\n",
       "    </tr>\n",
       "    <tr>\n",
       "      <th>2</th>\n",
       "      <td>1</td>\n",
       "      <td>1061</td>\n",
       "      <td>3.0</td>\n",
       "    </tr>\n",
       "    <tr>\n",
       "      <th>3</th>\n",
       "      <td>1</td>\n",
       "      <td>1129</td>\n",
       "      <td>2.0</td>\n",
       "    </tr>\n",
       "    <tr>\n",
       "      <th>4</th>\n",
       "      <td>1</td>\n",
       "      <td>1172</td>\n",
       "      <td>4.0</td>\n",
       "    </tr>\n",
       "  </tbody>\n",
       "</table>\n",
       "</div>"
      ],
      "text/plain": [
       "   user  item  rating\n",
       "0     1    31     2.5\n",
       "1     1  1029     3.0\n",
       "2     1  1061     3.0\n",
       "3     1  1129     2.0\n",
       "4     1  1172     4.0"
      ]
     },
     "execution_count": 38,
     "metadata": {},
     "output_type": "execute_result"
    }
   ],
   "source": [
    "mr.head()"
   ]
  },
  {
   "cell_type": "code",
   "execution_count": 64,
   "id": "0f920324",
   "metadata": {
    "scrolled": true
   },
   "outputs": [
    {
     "data": {
      "text/plain": [
       "array([    1,     2,    19,    34,    39,    48,    62,   110,   158,\n",
       "         231,   260,   317,   318,   329,   337,   344,   356,   362,\n",
       "         364,   367,   480,   497,   500,   520,   551,   586,   588,\n",
       "         593,   595,   596,   597,   616,   700,   708,   736,   783,\n",
       "         784,   919,  1013,  1025,  1035,  1073,  1088,  1089,  1097,\n",
       "        1193,  1197,  1207,  1210,  1219,  1225,  1246,  1265,  1282,\n",
       "        1367,  1380,  1407,  1441,  1485,  1517,  1569,  1580,  1704,\n",
       "        1721,  1739,  1777,  1923,  1947,  1959,  1968,  2005,  2053,\n",
       "        2054,  2078,  2081,  2139,  2141,  2144,  2145,  2150,  2273,\n",
       "        2321,  2324,  2355,  2420,  2470,  2502,  2541,  2571,  2572,\n",
       "        2599,  2657,  2671,  2683,  2694,  2706,  2710,  2724,  2762,\n",
       "        2797,  2915,  2918,  2959,  3114,  3174,  3247,  3253,  3255,\n",
       "        3397,  3408,  3418,  3421,  3448,  3481,  3624,  3717,  3751,\n",
       "        3752,  3755,  3793,  3863,  3897,  3948,  3949,  3977,  4014,\n",
       "        4018,  4022,  4025,  4178,  4246,  4299,  4306,  4308,  4369,\n",
       "        4370,  4447,  4571,  4641,  4701,  4703,  4720,  4748,  4749,\n",
       "        4750,  4816,  4878,  4880,  4886,  4896,  4963,  4973,  4993,\n",
       "        4995,  5218,  5299,  5377,  5481,  5679,  5810,  5816,  5952,\n",
       "        5989,  5991,  5995,  6218,  6377,  6539,  6565,  6863,  6942,\n",
       "        7147,  7173,  7254,  7293,  7361,  7380,  7444,  7669,  8131,\n",
       "        8360,  8366,  8368,  8376,  8528,  8529,  8533,  8784,  8949,\n",
       "        8957,  8961, 30749, 30793, 30810, 31433, 33639, 33660, 33679,\n",
       "       34162, 35836, 37729, 38061, 40815, 41566, 45447, 45517, 45722,\n",
       "       46578, 46976, 47518, 48385, 48394, 49286, 51662, 52287, 52435,\n",
       "       53123, 53125, 53322, 54001, 54259, 54272, 54281, 54503, 55267,\n",
       "       55999, 56152, 56367, 58047, 58347, 58998, 59501, 59784, 60069,\n",
       "       62155, 62718, 63239, 63393, 64034, 65230, 65585, 66509, 69406,\n",
       "       69606, 69757, 69844, 69945, 70183, 70293], dtype=int64)"
      ]
     },
     "execution_count": 64,
     "metadata": {},
     "output_type": "execute_result"
    }
   ],
   "source": [
    "mr.query('user == 500')['item'].unique()"
   ]
  },
  {
   "cell_type": "code",
   "execution_count": 50,
   "id": "dd3645e2",
   "metadata": {},
   "outputs": [
    {
     "data": {
      "text/plain": [
       "Prediction(uid=1, iid=31, r_ui=2.5, est=3.1834796860227086, details={'actual_k': 40, 'was_impossible': False})"
      ]
     },
     "execution_count": 50,
     "metadata": {},
     "output_type": "execute_result"
    }
   ],
   "source": [
    "knnbasic_user.predict(uid=1, iid=31, r_ui=2.5)"
   ]
  },
  {
   "cell_type": "code",
   "execution_count": 65,
   "id": "bbacf3c3",
   "metadata": {},
   "outputs": [
    {
     "data": {
      "text/plain": [
       "Prediction(uid=500, iid=3, r_ui=None, est=3.2849287719972278, details={'actual_k': 40, 'was_impossible': False})"
      ]
     },
     "execution_count": 65,
     "metadata": {},
     "output_type": "execute_result"
    }
   ],
   "source": [
    "knnbasic_user.predict(uid=500, iid=3)"
   ]
  },
  {
   "cell_type": "code",
   "execution_count": null,
   "id": "e4fd16e9",
   "metadata": {},
   "outputs": [],
   "source": [
    "#item-based"
   ]
  },
  {
   "cell_type": "code",
   "execution_count": 51,
   "id": "75783cbc",
   "metadata": {},
   "outputs": [],
   "source": [
    "knnbasic_item = KNNBasic(k=40, min_k=1, sim_options={'name':'cosine', 'user_based':False})"
   ]
  },
  {
   "cell_type": "code",
   "execution_count": 52,
   "id": "25d9893e",
   "metadata": {},
   "outputs": [
    {
     "name": "stdout",
     "output_type": "stream",
     "text": [
      "Computing the cosine similarity matrix...\n",
      "Done computing similarity matrix.\n"
     ]
    },
    {
     "data": {
      "text/plain": [
       "<surprise.prediction_algorithms.knns.KNNBasic at 0x1727ea6fd30>"
      ]
     },
     "execution_count": 52,
     "metadata": {},
     "output_type": "execute_result"
    }
   ],
   "source": [
    "knnbasic_item.fit(mr_trainset)"
   ]
  },
  {
   "cell_type": "code",
   "execution_count": 53,
   "id": "3d464265",
   "metadata": {},
   "outputs": [
    {
     "data": {
      "text/plain": [
       "Prediction(uid=1, iid=31, r_ui=None, est=2.547471538910294, details={'actual_k': 20, 'was_impossible': False})"
      ]
     },
     "execution_count": 53,
     "metadata": {},
     "output_type": "execute_result"
    }
   ],
   "source": [
    "knnbasic_item.predict(uid=1, iid=31)"
   ]
  },
  {
   "cell_type": "code",
   "execution_count": 62,
   "id": "02904633",
   "metadata": {},
   "outputs": [
    {
     "data": {
      "text/plain": [
       "Prediction(uid=500, iid=70183, r_ui=None, est=3.0125, details={'actual_k': 40, 'was_impossible': False})"
      ]
     },
     "execution_count": 62,
     "metadata": {},
     "output_type": "execute_result"
    }
   ],
   "source": [
    "knnbasic_item.predict(uid=500, iid=70183)"
   ]
  },
  {
   "cell_type": "code",
   "execution_count": null,
   "id": "843abef1",
   "metadata": {},
   "outputs": [],
   "source": [
    "# K-Fold CV"
   ]
  },
  {
   "cell_type": "code",
   "execution_count": 66,
   "id": "a01b3721",
   "metadata": {},
   "outputs": [],
   "source": [
    "from surprise.model_selection import KFold\n",
    "from surprise import accuracy"
   ]
  },
  {
   "cell_type": "code",
   "execution_count": 69,
   "id": "bbff4dc3",
   "metadata": {},
   "outputs": [
    {
     "name": "stdout",
     "output_type": "stream",
     "text": [
      "Computing the cosine similarity matrix...\n",
      "Done computing similarity matrix.\n",
      "RMSE: 0.9995\n",
      "MAE:  0.7772\n",
      "Computing the cosine similarity matrix...\n",
      "Done computing similarity matrix.\n",
      "RMSE: 0.9912\n",
      "MAE:  0.7726\n",
      "Computing the cosine similarity matrix...\n",
      "Done computing similarity matrix.\n",
      "RMSE: 0.9944\n",
      "MAE:  0.7724\n"
     ]
    }
   ],
   "source": [
    "kf = KFold(n_splits=3)\n",
    "\n",
    "for trainset, testset in kf.split(mr_train):\n",
    "    knnbasic_item.fit(trainset)\n",
    "    predictions = knnbasic_item.test(testset)\n",
    "    \n",
    "    accuracy.rmse(predictions, verbose=True)\n",
    "    accuracy.mae(predictions, verbose=True)"
   ]
  },
  {
   "cell_type": "code",
   "execution_count": 71,
   "id": "ac619d0b",
   "metadata": {},
   "outputs": [],
   "source": [
    "knnwithmeans_item = KNNWithMeans(k=40, min_k=1, sim_options={'name':'cosine', 'user_based':False})"
   ]
  },
  {
   "cell_type": "code",
   "execution_count": 72,
   "id": "b1ddfbac",
   "metadata": {},
   "outputs": [
    {
     "name": "stdout",
     "output_type": "stream",
     "text": [
      "Computing the cosine similarity matrix...\n",
      "Done computing similarity matrix.\n",
      "RMSE: 0.9387\n",
      "MAE:  0.7200\n",
      "Computing the cosine similarity matrix...\n",
      "Done computing similarity matrix.\n",
      "RMSE: 0.9355\n",
      "MAE:  0.7163\n",
      "Computing the cosine similarity matrix...\n",
      "Done computing similarity matrix.\n",
      "RMSE: 0.9309\n",
      "MAE:  0.7137\n"
     ]
    }
   ],
   "source": [
    "kf = KFold(n_splits=3)\n",
    "\n",
    "for trainset, testset in kf.split(mr_train):\n",
    "    knnwithmeans_item.fit(trainset)\n",
    "    predictions = knnwithmeans_item.test(testset)\n",
    "    \n",
    "    accuracy.rmse(predictions, verbose=True)\n",
    "    accuracy.mae(predictions, verbose=True)"
   ]
  },
  {
   "cell_type": "code",
   "execution_count": null,
   "id": "b2070564",
   "metadata": {},
   "outputs": [],
   "source": [
    "#Grid Search"
   ]
  },
  {
   "cell_type": "code",
   "execution_count": 75,
   "id": "61e18d50",
   "metadata": {},
   "outputs": [],
   "source": [
    "param_grid = {'k':[10,20],\n",
    "             'sim_options':{'name':['pearson','cosine'], 'user_based':[False]}}"
   ]
  },
  {
   "cell_type": "code",
   "execution_count": 76,
   "id": "a52a35fc",
   "metadata": {},
   "outputs": [],
   "source": [
    "algo = KNNWithMeans"
   ]
  },
  {
   "cell_type": "code",
   "execution_count": 77,
   "id": "e110cd64",
   "metadata": {},
   "outputs": [],
   "source": [
    "from surprise.model_selection import GridSearchCV"
   ]
  },
  {
   "cell_type": "code",
   "execution_count": 78,
   "id": "1ef10f8f",
   "metadata": {},
   "outputs": [],
   "source": [
    "grid_search = GridSearchCV(algo, param_grid=param_grid, measures=['rmse','mae'])"
   ]
  },
  {
   "cell_type": "code",
   "execution_count": 79,
   "id": "11069046",
   "metadata": {
    "scrolled": true
   },
   "outputs": [
    {
     "name": "stdout",
     "output_type": "stream",
     "text": [
      "Computing the pearson similarity matrix...\n",
      "Done computing similarity matrix.\n",
      "Computing the pearson similarity matrix...\n",
      "Done computing similarity matrix.\n",
      "Computing the pearson similarity matrix...\n",
      "Done computing similarity matrix.\n",
      "Computing the pearson similarity matrix...\n",
      "Done computing similarity matrix.\n",
      "Computing the pearson similarity matrix...\n",
      "Done computing similarity matrix.\n",
      "Computing the cosine similarity matrix...\n",
      "Done computing similarity matrix.\n",
      "Computing the cosine similarity matrix...\n",
      "Done computing similarity matrix.\n",
      "Computing the cosine similarity matrix...\n",
      "Done computing similarity matrix.\n",
      "Computing the cosine similarity matrix...\n",
      "Done computing similarity matrix.\n",
      "Computing the cosine similarity matrix...\n",
      "Done computing similarity matrix.\n",
      "Computing the pearson similarity matrix...\n",
      "Done computing similarity matrix.\n",
      "Computing the pearson similarity matrix...\n",
      "Done computing similarity matrix.\n",
      "Computing the pearson similarity matrix...\n",
      "Done computing similarity matrix.\n",
      "Computing the pearson similarity matrix...\n",
      "Done computing similarity matrix.\n",
      "Computing the pearson similarity matrix...\n",
      "Done computing similarity matrix.\n",
      "Computing the cosine similarity matrix...\n",
      "Done computing similarity matrix.\n",
      "Computing the cosine similarity matrix...\n",
      "Done computing similarity matrix.\n",
      "Computing the cosine similarity matrix...\n",
      "Done computing similarity matrix.\n",
      "Computing the cosine similarity matrix...\n",
      "Done computing similarity matrix.\n",
      "Computing the cosine similarity matrix...\n",
      "Done computing similarity matrix.\n"
     ]
    }
   ],
   "source": [
    "grid_search.fit(mr_train)"
   ]
  },
  {
   "cell_type": "code",
   "execution_count": 80,
   "id": "dac1f60d",
   "metadata": {},
   "outputs": [
    {
     "name": "stdout",
     "output_type": "stream",
     "text": [
      "{'k': 20, 'sim_options': {'name': 'cosine', 'user_based': False}}\n",
      "0.935475896745986\n"
     ]
    }
   ],
   "source": [
    "print(grid_search.best_params['rmse'])\n",
    "print(grid_search.best_score['rmse'])"
   ]
  },
  {
   "cell_type": "code",
   "execution_count": 81,
   "id": "fed05ed8",
   "metadata": {},
   "outputs": [
    {
     "name": "stdout",
     "output_type": "stream",
     "text": [
      "{'k': 20, 'sim_options': {'name': 'pearson', 'user_based': False}}\n",
      "0.7134133809337223\n"
     ]
    }
   ],
   "source": [
    "print(grid_search.best_params['mae'])\n",
    "print(grid_search.best_score['mae'])"
   ]
  },
  {
   "cell_type": "code",
   "execution_count": null,
   "id": "5cfd8e10",
   "metadata": {},
   "outputs": [],
   "source": [
    "#Top 5 recommendations for an item"
   ]
  },
  {
   "cell_type": "code",
   "execution_count": 109,
   "id": "d4124574",
   "metadata": {},
   "outputs": [
    {
     "name": "stdout",
     "output_type": "stream",
     "text": [
      "Computing the cosine similarity matrix...\n",
      "Done computing similarity matrix.\n"
     ]
    },
    {
     "data": {
      "text/plain": [
       "<surprise.prediction_algorithms.knns.KNNWithMeans at 0x1727ff01c10>"
      ]
     },
     "execution_count": 109,
     "metadata": {},
     "output_type": "execute_result"
    }
   ],
   "source": [
    "model = KNNWithMeans(k=20, sim_options={'name': 'cosine', 'user_based': False})\n",
    "model.fit(mr_trainset)"
   ]
  },
  {
   "cell_type": "code",
   "execution_count": 88,
   "id": "b38d9c68",
   "metadata": {},
   "outputs": [
    {
     "data": {
      "text/html": [
       "<div>\n",
       "<style scoped>\n",
       "    .dataframe tbody tr th:only-of-type {\n",
       "        vertical-align: middle;\n",
       "    }\n",
       "\n",
       "    .dataframe tbody tr th {\n",
       "        vertical-align: top;\n",
       "    }\n",
       "\n",
       "    .dataframe thead th {\n",
       "        text-align: right;\n",
       "    }\n",
       "</style>\n",
       "<table border=\"1\" class=\"dataframe\">\n",
       "  <thead>\n",
       "    <tr style=\"text-align: right;\">\n",
       "      <th></th>\n",
       "      <th>user</th>\n",
       "      <th>item</th>\n",
       "      <th>rating</th>\n",
       "    </tr>\n",
       "  </thead>\n",
       "  <tbody>\n",
       "    <tr>\n",
       "      <th>99999</th>\n",
       "      <td>671</td>\n",
       "      <td>6268</td>\n",
       "      <td>2.5</td>\n",
       "    </tr>\n",
       "    <tr>\n",
       "      <th>100000</th>\n",
       "      <td>671</td>\n",
       "      <td>6269</td>\n",
       "      <td>4.0</td>\n",
       "    </tr>\n",
       "    <tr>\n",
       "      <th>100001</th>\n",
       "      <td>671</td>\n",
       "      <td>6365</td>\n",
       "      <td>4.0</td>\n",
       "    </tr>\n",
       "    <tr>\n",
       "      <th>100002</th>\n",
       "      <td>671</td>\n",
       "      <td>6385</td>\n",
       "      <td>2.5</td>\n",
       "    </tr>\n",
       "    <tr>\n",
       "      <th>100003</th>\n",
       "      <td>671</td>\n",
       "      <td>6565</td>\n",
       "      <td>3.5</td>\n",
       "    </tr>\n",
       "  </tbody>\n",
       "</table>\n",
       "</div>"
      ],
      "text/plain": [
       "        user  item  rating\n",
       "99999    671  6268     2.5\n",
       "100000   671  6269     4.0\n",
       "100001   671  6365     4.0\n",
       "100002   671  6385     2.5\n",
       "100003   671  6565     3.5"
      ]
     },
     "execution_count": 88,
     "metadata": {},
     "output_type": "execute_result"
    }
   ],
   "source": [
    "mr.tail()"
   ]
  },
  {
   "cell_type": "code",
   "execution_count": 91,
   "id": "97d0e31e",
   "metadata": {},
   "outputs": [
    {
     "data": {
      "text/plain": [
       "7005"
      ]
     },
     "execution_count": 91,
     "metadata": {},
     "output_type": "execute_result"
    }
   ],
   "source": [
    "mr_trainset.to_inner_iid(6268)"
   ]
  },
  {
   "cell_type": "code",
   "execution_count": 92,
   "id": "5c802eeb",
   "metadata": {},
   "outputs": [
    {
     "data": {
      "text/plain": [
       "[9, 19, 25, 28, 29]"
      ]
     },
     "execution_count": 92,
     "metadata": {},
     "output_type": "execute_result"
    }
   ],
   "source": [
    "model.get_neighbors(mr_trainset.to_inner_iid(6268),5)"
   ]
  },
  {
   "cell_type": "code",
   "execution_count": 93,
   "id": "a7af86af",
   "metadata": {},
   "outputs": [
    {
     "name": "stdout",
     "output_type": "stream",
     "text": [
      "1343\n",
      "3671\n",
      "52\n",
      "144\n",
      "150\n"
     ]
    }
   ],
   "source": [
    "for i in model.get_neighbors(mr_trainset.to_inner_iid(6268),5):\n",
    "    print(mr_trainset.to_raw_iid(i))"
   ]
  },
  {
   "cell_type": "code",
   "execution_count": null,
   "id": "28185938",
   "metadata": {},
   "outputs": [],
   "source": [
    "#Top 5 recommendations for an user"
   ]
  },
  {
   "cell_type": "code",
   "execution_count": 94,
   "id": "f7dea544",
   "metadata": {},
   "outputs": [
    {
     "name": "stdout",
     "output_type": "stream",
     "text": [
      "Computing the cosine similarity matrix...\n",
      "Done computing similarity matrix.\n"
     ]
    },
    {
     "data": {
      "text/plain": [
       "<surprise.prediction_algorithms.knns.KNNWithMeans at 0x1727ec40490>"
      ]
     },
     "execution_count": 94,
     "metadata": {},
     "output_type": "execute_result"
    }
   ],
   "source": [
    "model = KNNWithMeans(k=20, sim_options={'name': 'cosine', 'user_based': True})\n",
    "model.fit(mr_trainset)"
   ]
  },
  {
   "cell_type": "code",
   "execution_count": 106,
   "id": "07d6053b",
   "metadata": {},
   "outputs": [
    {
     "data": {
      "text/html": [
       "<div>\n",
       "<style scoped>\n",
       "    .dataframe tbody tr th:only-of-type {\n",
       "        vertical-align: middle;\n",
       "    }\n",
       "\n",
       "    .dataframe tbody tr th {\n",
       "        vertical-align: top;\n",
       "    }\n",
       "\n",
       "    .dataframe thead th {\n",
       "        text-align: right;\n",
       "    }\n",
       "</style>\n",
       "<table border=\"1\" class=\"dataframe\">\n",
       "  <thead>\n",
       "    <tr style=\"text-align: right;\">\n",
       "      <th></th>\n",
       "      <th>user</th>\n",
       "      <th>item</th>\n",
       "      <th>rating</th>\n",
       "    </tr>\n",
       "  </thead>\n",
       "  <tbody>\n",
       "    <tr>\n",
       "      <th>99999</th>\n",
       "      <td>671</td>\n",
       "      <td>6268</td>\n",
       "      <td>2.5</td>\n",
       "    </tr>\n",
       "    <tr>\n",
       "      <th>100000</th>\n",
       "      <td>671</td>\n",
       "      <td>6269</td>\n",
       "      <td>4.0</td>\n",
       "    </tr>\n",
       "    <tr>\n",
       "      <th>100001</th>\n",
       "      <td>671</td>\n",
       "      <td>6365</td>\n",
       "      <td>4.0</td>\n",
       "    </tr>\n",
       "    <tr>\n",
       "      <th>100002</th>\n",
       "      <td>671</td>\n",
       "      <td>6385</td>\n",
       "      <td>2.5</td>\n",
       "    </tr>\n",
       "    <tr>\n",
       "      <th>100003</th>\n",
       "      <td>671</td>\n",
       "      <td>6565</td>\n",
       "      <td>3.5</td>\n",
       "    </tr>\n",
       "  </tbody>\n",
       "</table>\n",
       "</div>"
      ],
      "text/plain": [
       "        user  item  rating\n",
       "99999    671  6268     2.5\n",
       "100000   671  6269     4.0\n",
       "100001   671  6365     4.0\n",
       "100002   671  6385     2.5\n",
       "100003   671  6565     3.5"
      ]
     },
     "execution_count": 106,
     "metadata": {},
     "output_type": "execute_result"
    }
   ],
   "source": [
    "mr.tail()"
   ]
  },
  {
   "cell_type": "code",
   "execution_count": 101,
   "id": "25b4c5c5",
   "metadata": {},
   "outputs": [
    {
     "name": "stdout",
     "output_type": "stream",
     "text": [
      "1\n",
      "35\n",
      "46\n",
      "76\n",
      "113\n"
     ]
    }
   ],
   "source": [
    "for i in model.get_neighbors(mr_trainset.to_inner_uid(671),5):\n",
    "    print(mr_trainset.to_raw_uid(i))"
   ]
  },
  {
   "cell_type": "markdown",
   "id": "45713434",
   "metadata": {},
   "source": [
    "UDF:\n",
    "\n",
    "Provide raw user id and item id\n",
    "\n",
    "Finds 5 most similar not yet rated by the user"
   ]
  },
  {
   "cell_type": "code",
   "execution_count": 113,
   "id": "8467f076",
   "metadata": {},
   "outputs": [],
   "source": [
    "def NNbyUserItem(myuser,myitem):\n",
    "    counter = 0;\n",
    "    for i in model.get_neighbors(mr_trainset.to_inner_iid(myitem),len(mr)):\n",
    "        if(len(mr.loc[(mr['item']==mr_trainset.to_raw_iid(i)) & (mr['user'] ==  myuser)])):\n",
    "            if(counter < 5):\n",
    "                print(mr_trainset.to_raw_iid(i))\n",
    "                counter = counter+1 \n",
    "            else:\n",
    "                break"
   ]
  },
  {
   "cell_type": "code",
   "execution_count": 114,
   "id": "7718c6e2",
   "metadata": {},
   "outputs": [
    {
     "name": "stdout",
     "output_type": "stream",
     "text": [
      "1223\n",
      "6268\n",
      "6212\n",
      "529\n",
      "6269\n"
     ]
    }
   ],
   "source": [
    "NNbyUserItem(671,6565)"
   ]
  },
  {
   "cell_type": "markdown",
   "id": "5af63b9e",
   "metadata": {},
   "source": [
    "## Model Based Recommendation Systems"
   ]
  },
  {
   "cell_type": "code",
   "execution_count": 115,
   "id": "3c82ec06",
   "metadata": {},
   "outputs": [],
   "source": [
    "from surprise import SVD"
   ]
  },
  {
   "cell_type": "code",
   "execution_count": 117,
   "id": "1e6a9c3f",
   "metadata": {},
   "outputs": [],
   "source": [
    "model = SVD(n_factors=20)"
   ]
  },
  {
   "cell_type": "code",
   "execution_count": 118,
   "id": "ec349dd5",
   "metadata": {},
   "outputs": [
    {
     "data": {
      "text/plain": [
       "<surprise.prediction_algorithms.matrix_factorization.SVD at 0x1727ff01670>"
      ]
     },
     "execution_count": 118,
     "metadata": {},
     "output_type": "execute_result"
    }
   ],
   "source": [
    "model.fit(mr_trainset)"
   ]
  },
  {
   "cell_type": "code",
   "execution_count": 119,
   "id": "437ece62",
   "metadata": {},
   "outputs": [
    {
     "data": {
      "text/plain": [
       "Prediction(uid=1, iid=31, r_ui=None, est=2.3403933662796854, details={'was_impossible': False})"
      ]
     },
     "execution_count": 119,
     "metadata": {},
     "output_type": "execute_result"
    }
   ],
   "source": [
    "model.predict(uid=1, iid=31)"
   ]
  },
  {
   "cell_type": "code",
   "execution_count": 120,
   "id": "5afe9f81",
   "metadata": {},
   "outputs": [],
   "source": [
    "from surprise import NMF"
   ]
  },
  {
   "cell_type": "code",
   "execution_count": 127,
   "id": "c9e0a7f9",
   "metadata": {},
   "outputs": [],
   "source": [
    "model1 = NMF(n_factors=20, biased=True)"
   ]
  },
  {
   "cell_type": "code",
   "execution_count": 128,
   "id": "a293f7d8",
   "metadata": {},
   "outputs": [
    {
     "data": {
      "text/plain": [
       "<surprise.prediction_algorithms.matrix_factorization.NMF at 0x1727ff01520>"
      ]
     },
     "execution_count": 128,
     "metadata": {},
     "output_type": "execute_result"
    }
   ],
   "source": [
    "model1.fit(mr_trainset)"
   ]
  },
  {
   "cell_type": "code",
   "execution_count": 129,
   "id": "45a01449",
   "metadata": {},
   "outputs": [
    {
     "data": {
      "text/plain": [
       "Prediction(uid=1, iid=31, r_ui=None, est=2.4482172508755493, details={'was_impossible': False})"
      ]
     },
     "execution_count": 129,
     "metadata": {},
     "output_type": "execute_result"
    }
   ],
   "source": [
    "model1.predict(uid=1, iid=31)"
   ]
  },
  {
   "cell_type": "code",
   "execution_count": 130,
   "id": "66cda505",
   "metadata": {},
   "outputs": [
    {
     "name": "stdout",
     "output_type": "stream",
     "text": [
      "RMSE: 0.8993\n",
      "MAE:  0.6917\n",
      "RMSE: 0.8972\n",
      "MAE:  0.6910\n",
      "RMSE: 0.8935\n",
      "MAE:  0.6891\n"
     ]
    }
   ],
   "source": [
    "kf = KFold(n_splits=3)\n",
    "\n",
    "for trainset, testset in kf.split(mr_train):\n",
    "    model.fit(trainset)\n",
    "    predictions = model.test(testset)\n",
    "    \n",
    "    accuracy.rmse(predictions, verbose=True)\n",
    "    accuracy.mae(predictions, verbose=True)"
   ]
  },
  {
   "cell_type": "code",
   "execution_count": 131,
   "id": "9250555b",
   "metadata": {},
   "outputs": [
    {
     "name": "stdout",
     "output_type": "stream",
     "text": [
      "RMSE: 1.4008\n",
      "MAE:  1.0774\n",
      "RMSE: 1.2290\n",
      "MAE:  0.9261\n",
      "RMSE: 1.3021\n",
      "MAE:  0.9907\n"
     ]
    }
   ],
   "source": [
    "kf = KFold(n_splits=3)\n",
    "\n",
    "for trainset, testset in kf.split(mr_train):\n",
    "    model1.fit(trainset)\n",
    "    predictions = model1.test(testset)\n",
    "    \n",
    "    accuracy.rmse(predictions, verbose=True)\n",
    "    accuracy.mae(predictions, verbose=True)"
   ]
  },
  {
   "cell_type": "code",
   "execution_count": 132,
   "id": "c4a5a45a",
   "metadata": {},
   "outputs": [],
   "source": [
    "algo = SVD"
   ]
  },
  {
   "cell_type": "code",
   "execution_count": 134,
   "id": "c36a2127",
   "metadata": {},
   "outputs": [],
   "source": [
    "param_grid = {'n_factors':[15,20,30,40],\n",
    "             'n_epochs':[20,25],\n",
    "             'lr_all':[0.005,0.010]}"
   ]
  },
  {
   "cell_type": "code",
   "execution_count": 135,
   "id": "7443568d",
   "metadata": {},
   "outputs": [],
   "source": [
    "grid_search = GridSearchCV(algo, param_grid=param_grid, measures=['rmse','mae'])"
   ]
  },
  {
   "cell_type": "code",
   "execution_count": 136,
   "id": "561b62b3",
   "metadata": {},
   "outputs": [],
   "source": [
    "grid_search.fit(mr_train)"
   ]
  },
  {
   "cell_type": "code",
   "execution_count": 137,
   "id": "70059a63",
   "metadata": {},
   "outputs": [
    {
     "name": "stdout",
     "output_type": "stream",
     "text": [
      "{'n_factors': 15, 'n_epochs': 25, 'lr_all': 0.005}\n",
      "0.8917043350075217\n"
     ]
    }
   ],
   "source": [
    "print(grid_search.best_params['rmse'])\n",
    "print(grid_search.best_score['rmse'])"
   ]
  },
  {
   "cell_type": "code",
   "execution_count": 138,
   "id": "ff7bc52d",
   "metadata": {},
   "outputs": [
    {
     "name": "stdout",
     "output_type": "stream",
     "text": [
      "{'n_factors': 15, 'n_epochs': 25, 'lr_all': 0.005}\n",
      "0.6858481579330711\n"
     ]
    }
   ],
   "source": [
    "print(grid_search.best_params['mae'])\n",
    "print(grid_search.best_score['mae'])"
   ]
  },
  {
   "cell_type": "code",
   "execution_count": 139,
   "id": "f7890e04",
   "metadata": {},
   "outputs": [],
   "source": [
    "final_model = SVD(n_factors=15, n_epochs=25, lr_all=0.005)"
   ]
  },
  {
   "cell_type": "code",
   "execution_count": 140,
   "id": "1bb194ac",
   "metadata": {},
   "outputs": [
    {
     "data": {
      "text/plain": [
       "<surprise.prediction_algorithms.matrix_factorization.SVD at 0x1727ec40700>"
      ]
     },
     "execution_count": 140,
     "metadata": {},
     "output_type": "execute_result"
    }
   ],
   "source": [
    "final_model.fit(mr_trainset)"
   ]
  },
  {
   "cell_type": "code",
   "execution_count": 141,
   "id": "baee8f1b",
   "metadata": {},
   "outputs": [
    {
     "data": {
      "text/plain": [
       "Prediction(uid=1, iid=31, r_ui=None, est=2.3187145247993017, details={'was_impossible': False})"
      ]
     },
     "execution_count": 141,
     "metadata": {},
     "output_type": "execute_result"
    }
   ],
   "source": [
    "final_model.predict(uid=1, iid=31)"
   ]
  },
  {
   "cell_type": "code",
   "execution_count": null,
   "id": "09bdf4b0",
   "metadata": {},
   "outputs": [],
   "source": []
  },
  {
   "cell_type": "code",
   "execution_count": null,
   "id": "311499d1",
   "metadata": {},
   "outputs": [],
   "source": []
  },
  {
   "cell_type": "code",
   "execution_count": null,
   "id": "56acd0fd",
   "metadata": {},
   "outputs": [],
   "source": []
  }
 ],
 "metadata": {
  "kernelspec": {
   "display_name": "Python 3",
   "language": "python",
   "name": "python3"
  },
  "language_info": {
   "codemirror_mode": {
    "name": "ipython",
    "version": 3
   },
   "file_extension": ".py",
   "mimetype": "text/x-python",
   "name": "python",
   "nbconvert_exporter": "python",
   "pygments_lexer": "ipython3",
   "version": "3.8.8"
  }
 },
 "nbformat": 4,
 "nbformat_minor": 5
}
